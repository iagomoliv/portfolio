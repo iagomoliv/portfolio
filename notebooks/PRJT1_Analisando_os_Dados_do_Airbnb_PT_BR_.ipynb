{
  "nbformat": 4,
  "nbformat_minor": 0,
  "metadata": {
    "colab": {
      "name": "PRJT1 - Analisando os Dados do Airbnb - PT-BR .ipynb",
      "provenance": [],
      "collapsed_sections": [],
      "toc_visible": true,
      "authorship_tag": "ABX9TyNAM5dmC9NuhFrLMOLDOpQ5",
      "include_colab_link": true
    },
    "kernelspec": {
      "name": "python3",
      "display_name": "Python 3"
    },
    "language_info": {
      "name": "python"
    }
  },
  "cells": [
    {
      "cell_type": "markdown",
      "metadata": {
        "id": "view-in-github",
        "colab_type": "text"
      },
      "source": [
        "<a href=\"https://colab.research.google.com/github/iagomoliv/portfolio/blob/main/notebooks/PRJT1_Analisando_os_Dados_do_Airbnb_PT_BR_.ipynb\" target=\"_parent\"><img src=\"https://colab.research.google.com/assets/colab-badge.svg\" alt=\"Open In Colab\"/></a>"
      ]
    },
    {
      "cell_type": "markdown",
      "metadata": {
        "id": "xjLw9nzpRztQ"
      },
      "source": [
        "# Analisando os dados do Airbnb da cidade de Seattle"
      ]
    },
    {
      "cell_type": "markdown",
      "metadata": {
        "id": "QAFtoMgip9v2"
      },
      "source": [
        "## Introdução\n",
        "\n",
        "### Airbnb\n",
        "\n",
        "<br>\n",
        "  <center>\n",
        "    <img src=\"https://upload.wikimedia.org/wikipedia/commons/6/69/Airbnb_Logo_B%C3%A9lo.svg\" width=20%>\n",
        "  </center>\n",
        "</br>\n",
        "\n",
        "O [Airbnb](https://www.airbnb.com.br/) é uma empresa que dispensa apresentações. No entanto, se você ainda não ouviu falar dela, aqui vai uma descrição bem sucinta:\n",
        "\n",
        "> O Airbnb **é a maior empresa hoteleira da atualidade - mesmo sem possuir nenhum hotel**. Seu objetivo é conectar pessoas que querem viajar e se hospedar com anfitriões que querem alugar seus imóveis de maneira prática.\n",
        "\n",
        "Hoje, a empresa conta com 4 milhões de anfitriões que já receberam mais de 1 bilhão de hóspedes em quase todos os países do mundo.\n",
        "\n",
        "Uma das iniciativas do Airbnb é disponibilizar dados do site, para algumas das principais cidades do mundo. Por meio do portal [Inside Airbnb](http://insideairbnb.com/get-the-data.html), é possível baixar uma grande quantidade de dados para desenvolver projetos e soluções de Data Science.\n",
        "\n",
        "### Seattle\n",
        "\n",
        "Com um florescente cenário gastronômico, bairros ecléticos e uma deslumbrante paisagem costeira, Seattle é cercada pelo lago Washington a leste e pelo *Puget Sound* (estuário de Puget) a oeste, lugares ideais para a prática de atividades aquáticas e cruzeiros turísticos.\n",
        "\n",
        "#### O que fazer em Seattle: atrações famosas\n",
        "\n",
        "*   A vista do observatório do topo da mundialmente famosa *Space Needle* é incrível. A atração de 185,5 metros de altura foi deixada como herança da Expo 62 e tornou-se um símbolo da cidade.\n",
        "\n",
        "<br>\n",
        "  <center>\n",
        "    <img src=\"https://images.unsplash.com/photo-1622839497468-9e4a20007cf8?ixlib=rb-1.2.1&ixid=MnwxMjA3fDB8MHxwaG90by1wYWdlfHx8fGVufDB8fHx8&auto=format&fit=crop&w=2850&q=80\" width=50%>\n",
        "   </center>\n",
        "</br>\n",
        "\n",
        "*   Moradores locais e visitantes enchem o *Pike Place Market* (Mercado Pike Place) na orla, o mais antigo mercado de produtores rurais em atividade constante dos EUA. Perca-se entre as barracas repletas de queijos artesanais, pães que acabaram de sair do forno e peixes frescos.\n",
        "\n",
        "<br>\n",
        "  <center>\n",
        "    <img src=\"https://upload.wikimedia.org/wikipedia/commons/6/64/Pike_Place_Market_Entrance.JPG\" width=50%>\n",
        "  </center>\n",
        "</br>\n",
        "\n",
        "*   Visite o *Chihuly Garden and Glass* (Jardim de Vidro Chihuly) para conhecer as notáveis obras de arte em vidro de Dale Chihuly.\n",
        "\n",
        "<br>\n",
        "  <center>\n",
        "    <img src=\"https://upload.wikimedia.org/wikipedia/commons/4/4f/Chihuly_Garden_and_Glass_museum_at_dusk.jpg\" width=50%>\n",
        "  </center>\n",
        "</br>\n",
        "\n",
        "*   Não deixe de fazer o *Boeing Tour* e conhecer a fundo as instalações de produção do jato.\n",
        "\n",
        "<br>\n",
        "  <center>\n",
        "    <img src=\"https://upload.wikimedia.org/wikipedia/commons/f/fa/Jetstar%27s_first_787_on_the_production_line_%289132370198%29.jpg\" width=50%>\n",
        "  </center>\n",
        "</br>\n",
        "\n",
        "Fonte: https://www.visiteosusa.com.br/destination/seattle.\n"
      ]
    },
    {
      "cell_type": "markdown",
      "metadata": {
        "id": "AImL9wuqQ7c8"
      },
      "source": [
        "## Objetivo\n",
        "\n",
        "Neste notebook, nosso objetivo é analisar os dados referentes à cidade de **Seattle**, localizada no estado de Washington, nos Estados Unidos, e ver quais *insights* podem ser extraídos a partir de dados brutos."
      ]
    },
    {
      "cell_type": "markdown",
      "metadata": {
        "id": "rUx7S518qGiv"
      },
      "source": [
        "## Configurando o ambiente de trabalho"
      ]
    },
    {
      "cell_type": "code",
      "metadata": {
        "id": "YkIO6A9VQGNZ"
      },
      "source": [
        "# Pacotes utilizados\n",
        "import pandas as pd\n",
        "import numpy as np\n",
        "import matplotlib.pyplot as plt\n",
        "import seaborn as sns\n",
        "\n",
        "%matplotlib inline"
      ],
      "execution_count": null,
      "outputs": []
    },
    {
      "cell_type": "markdown",
      "metadata": {
        "id": "Ttf2Fg3nI-uS"
      },
      "source": [
        "Os dados foram obtidos através do portal [Inside Airbnb](http://insideairbnb.com/get-the-data.html)."
      ]
    },
    {
      "cell_type": "code",
      "metadata": {
        "id": "zS4URUgwPXdx"
      },
      "source": [
        "PATH = 'http://data.insideairbnb.com/united-states/wa/seattle/2021-09-25/visualisations/listings.csv';\n",
        "\n",
        "# Importando os dados\n",
        "df = pd.read_csv(PATH, index_col = 'id', dtype = {'host_id': 'str'});"
      ],
      "execution_count": null,
      "outputs": []
    },
    {
      "cell_type": "markdown",
      "metadata": {
        "id": "7vQfwRNJSDaA"
      },
      "source": [
        "## Explorando a base de dados\n",
        "\n",
        "O objetivo desta seção é nos situar, facilitar o entendimento da base de dados a ser trabalhada."
      ]
    },
    {
      "cell_type": "code",
      "metadata": {
        "colab": {
          "base_uri": "https://localhost:8080/"
        },
        "id": "Qxfto9EHQP16",
        "outputId": "e6d1ee5e-b72e-49ce-e380-99f81df2538f"
      },
      "source": [
        "# Visão geral da base de dados\n",
        "df.info()"
      ],
      "execution_count": null,
      "outputs": [
        {
          "output_type": "stream",
          "name": "stdout",
          "text": [
            "<class 'pandas.core.frame.DataFrame'>\n",
            "Int64Index: 4249 entries, 2318 to 52446255\n",
            "Data columns (total 17 columns):\n",
            " #   Column                          Non-Null Count  Dtype  \n",
            "---  ------                          --------------  -----  \n",
            " 0   name                            4249 non-null   object \n",
            " 1   host_id                         4249 non-null   object \n",
            " 2   host_name                       4249 non-null   object \n",
            " 3   neighbourhood_group             4249 non-null   object \n",
            " 4   neighbourhood                   4249 non-null   object \n",
            " 5   latitude                        4249 non-null   float64\n",
            " 6   longitude                       4249 non-null   float64\n",
            " 7   room_type                       4249 non-null   object \n",
            " 8   price                           4249 non-null   int64  \n",
            " 9   minimum_nights                  4249 non-null   int64  \n",
            " 10  number_of_reviews               4249 non-null   int64  \n",
            " 11  last_review                     3597 non-null   object \n",
            " 12  reviews_per_month               3597 non-null   float64\n",
            " 13  calculated_host_listings_count  4249 non-null   int64  \n",
            " 14  availability_365                4249 non-null   int64  \n",
            " 15  number_of_reviews_ltm           4249 non-null   int64  \n",
            " 16  license                         3196 non-null   object \n",
            "dtypes: float64(3), int64(6), object(8)\n",
            "memory usage: 597.5+ KB\n"
          ]
        }
      ]
    },
    {
      "cell_type": "markdown",
      "metadata": {
        "id": "-klnRqNXg6oJ"
      },
      "source": [
        "### Dicionário das variáveis\n",
        "\n",
        "*   `id`: identificador único do anúncio;\n",
        "*   `name`: nome do anúncio;\n",
        "*   `host_id`: identificador único do anfitrião;\n",
        "*   `host_name`: nome do anfitrião;\n",
        "*   `neighbourhood_group`: região;\n",
        "*   `neighbourhood`: bairro;\n",
        "*   `latitude`: latitude (WGS84, grau decimal);\n",
        "*   `longitude`: longitude (WGS84, grau decimal);\n",
        "*   `room_type`: tipo de quarto/imóvel;\n",
        "*   `price`: preço por noite de estadia (USD);\n",
        "*   `minimum_nights`: número mínimo de noites de estadia;\n",
        "*   `number_of_reviews`: quantidade de avaliações do anúncio;\n",
        "*   `last_review`: data da última avaliação;\n",
        "*   `reviews_per_month`: número de avaliações mensais que o anúncio recebe durante o período anunciado;\n",
        "*   `calculated_host_listings_count`: número de anúncios que o anfitrião tem na mesma região;\n",
        "*   `availability_365`: disponibilidade do anúncio nos próximos 365 dias;\n",
        "*   `number_of_reviews_ltm`: número de avaliações nos últimos 12 meses;\n",
        "*   `license`: número da licença/permissão/registro;"
      ]
    },
    {
      "cell_type": "code",
      "metadata": {
        "colab": {
          "base_uri": "https://localhost:8080/",
          "height": 629
        },
        "id": "Y0MlQsG6RczZ",
        "outputId": "53860ec6-16eb-4a17-a8f5-05607c842b80"
      },
      "source": [
        "# Verificando as 5 primeiras entradas\n",
        "df.head()"
      ],
      "execution_count": null,
      "outputs": [
        {
          "output_type": "execute_result",
          "data": {
            "text/html": [
              "<div>\n",
              "<style scoped>\n",
              "    .dataframe tbody tr th:only-of-type {\n",
              "        vertical-align: middle;\n",
              "    }\n",
              "\n",
              "    .dataframe tbody tr th {\n",
              "        vertical-align: top;\n",
              "    }\n",
              "\n",
              "    .dataframe thead th {\n",
              "        text-align: right;\n",
              "    }\n",
              "</style>\n",
              "<table border=\"1\" class=\"dataframe\">\n",
              "  <thead>\n",
              "    <tr style=\"text-align: right;\">\n",
              "      <th></th>\n",
              "      <th>name</th>\n",
              "      <th>host_id</th>\n",
              "      <th>host_name</th>\n",
              "      <th>neighbourhood_group</th>\n",
              "      <th>neighbourhood</th>\n",
              "      <th>latitude</th>\n",
              "      <th>longitude</th>\n",
              "      <th>room_type</th>\n",
              "      <th>price</th>\n",
              "      <th>minimum_nights</th>\n",
              "      <th>number_of_reviews</th>\n",
              "      <th>last_review</th>\n",
              "      <th>reviews_per_month</th>\n",
              "      <th>calculated_host_listings_count</th>\n",
              "      <th>availability_365</th>\n",
              "      <th>number_of_reviews_ltm</th>\n",
              "      <th>license</th>\n",
              "    </tr>\n",
              "    <tr>\n",
              "      <th>id</th>\n",
              "      <th></th>\n",
              "      <th></th>\n",
              "      <th></th>\n",
              "      <th></th>\n",
              "      <th></th>\n",
              "      <th></th>\n",
              "      <th></th>\n",
              "      <th></th>\n",
              "      <th></th>\n",
              "      <th></th>\n",
              "      <th></th>\n",
              "      <th></th>\n",
              "      <th></th>\n",
              "      <th></th>\n",
              "      <th></th>\n",
              "      <th></th>\n",
              "      <th></th>\n",
              "    </tr>\n",
              "  </thead>\n",
              "  <tbody>\n",
              "    <tr>\n",
              "      <th>2318</th>\n",
              "      <td>Casa Madrona - Urban Oasis 1 block from the park!</td>\n",
              "      <td>2536</td>\n",
              "      <td>Megan</td>\n",
              "      <td>Central Area</td>\n",
              "      <td>Madrona</td>\n",
              "      <td>47.61094</td>\n",
              "      <td>-122.29286</td>\n",
              "      <td>Entire home/apt</td>\n",
              "      <td>449</td>\n",
              "      <td>7</td>\n",
              "      <td>35</td>\n",
              "      <td>2021-08-07</td>\n",
              "      <td>0.61</td>\n",
              "      <td>1</td>\n",
              "      <td>204</td>\n",
              "      <td>3</td>\n",
              "      <td>STR-OPLI-19-002837</td>\n",
              "    </tr>\n",
              "    <tr>\n",
              "      <th>6606</th>\n",
              "      <td>Fab, private seattle urban cottage!</td>\n",
              "      <td>14942</td>\n",
              "      <td>Joyce</td>\n",
              "      <td>Other neighborhoods</td>\n",
              "      <td>Wallingford</td>\n",
              "      <td>47.65444</td>\n",
              "      <td>-122.33629</td>\n",
              "      <td>Entire home/apt</td>\n",
              "      <td>99</td>\n",
              "      <td>3</td>\n",
              "      <td>157</td>\n",
              "      <td>2021-09-14</td>\n",
              "      <td>2.42</td>\n",
              "      <td>1</td>\n",
              "      <td>0</td>\n",
              "      <td>8</td>\n",
              "      <td>str-opli-19-002622</td>\n",
              "    </tr>\n",
              "    <tr>\n",
              "      <th>9419</th>\n",
              "      <td>Glorious sun room w/ memory foambed</td>\n",
              "      <td>30559</td>\n",
              "      <td>Angielena</td>\n",
              "      <td>Other neighborhoods</td>\n",
              "      <td>Georgetown</td>\n",
              "      <td>47.55017</td>\n",
              "      <td>-122.31937</td>\n",
              "      <td>Private room</td>\n",
              "      <td>75</td>\n",
              "      <td>2</td>\n",
              "      <td>153</td>\n",
              "      <td>2021-07-27</td>\n",
              "      <td>1.13</td>\n",
              "      <td>9</td>\n",
              "      <td>344</td>\n",
              "      <td>5</td>\n",
              "      <td>STR-OPLI-19-003039</td>\n",
              "    </tr>\n",
              "    <tr>\n",
              "      <th>9531</th>\n",
              "      <td>The Adorable Sweet Orange Craftsman</td>\n",
              "      <td>31481</td>\n",
              "      <td>Cassie</td>\n",
              "      <td>West Seattle</td>\n",
              "      <td>Fairmount Park</td>\n",
              "      <td>47.55495</td>\n",
              "      <td>-122.38663</td>\n",
              "      <td>Entire home/apt</td>\n",
              "      <td>174</td>\n",
              "      <td>3</td>\n",
              "      <td>49</td>\n",
              "      <td>2021-09-07</td>\n",
              "      <td>0.55</td>\n",
              "      <td>2</td>\n",
              "      <td>265</td>\n",
              "      <td>9</td>\n",
              "      <td>STR-OPLI-19-002182</td>\n",
              "    </tr>\n",
              "    <tr>\n",
              "      <th>9534</th>\n",
              "      <td>The Coolest Tangerine Dream MIL!</td>\n",
              "      <td>31481</td>\n",
              "      <td>Cassie</td>\n",
              "      <td>West Seattle</td>\n",
              "      <td>Fairmount Park</td>\n",
              "      <td>47.55627</td>\n",
              "      <td>-122.38607</td>\n",
              "      <td>Entire home/apt</td>\n",
              "      <td>145</td>\n",
              "      <td>5</td>\n",
              "      <td>58</td>\n",
              "      <td>2021-04-25</td>\n",
              "      <td>0.57</td>\n",
              "      <td>2</td>\n",
              "      <td>122</td>\n",
              "      <td>5</td>\n",
              "      <td>STR-OPLI-19-002182</td>\n",
              "    </tr>\n",
              "  </tbody>\n",
              "</table>\n",
              "</div>"
            ],
            "text/plain": [
              "                                                   name  ...             license\n",
              "id                                                       ...                    \n",
              "2318  Casa Madrona - Urban Oasis 1 block from the park!  ...  STR-OPLI-19-002837\n",
              "6606                Fab, private seattle urban cottage!  ...  str-opli-19-002622\n",
              "9419                Glorious sun room w/ memory foambed  ...  STR-OPLI-19-003039\n",
              "9531                The Adorable Sweet Orange Craftsman  ...  STR-OPLI-19-002182\n",
              "9534                   The Coolest Tangerine Dream MIL!  ...  STR-OPLI-19-002182\n",
              "\n",
              "[5 rows x 17 columns]"
            ]
          },
          "metadata": {},
          "execution_count": 4
        }
      ]
    },
    {
      "cell_type": "markdown",
      "metadata": {
        "id": "XHp3Y0joZXiC"
      },
      "source": [
        "### Dimensão e valores ausentes\n",
        "\n",
        "É uma base de dados que possui 4249 observações, 18 colunas/variáveis (uma coluna é o índice) e poucas dados ausentes."
      ]
    },
    {
      "cell_type": "code",
      "metadata": {
        "colab": {
          "base_uri": "https://localhost:8080/"
        },
        "id": "U57og1YoqUon",
        "outputId": "cf5ec685-58c8-4cc1-e7f5-6781fda267e5"
      },
      "source": [
        "# Dimensão dos dados\n",
        "df.shape"
      ],
      "execution_count": null,
      "outputs": [
        {
          "output_type": "execute_result",
          "data": {
            "text/plain": [
              "(4249, 17)"
            ]
          },
          "metadata": {},
          "execution_count": 5
        }
      ]
    },
    {
      "cell_type": "code",
      "metadata": {
        "colab": {
          "base_uri": "https://localhost:8080/"
        },
        "id": "jF8DPGSLSB_O",
        "outputId": "fa923023-6352-4145-da6f-c73d5287905b"
      },
      "source": [
        "# Proporção de valores ausentes\n",
        "df.isnull().sum() / df.shape[0] * 100"
      ],
      "execution_count": null,
      "outputs": [
        {
          "output_type": "execute_result",
          "data": {
            "text/plain": [
              "name                               0.000000\n",
              "host_id                            0.000000\n",
              "host_name                          0.000000\n",
              "neighbourhood_group                0.000000\n",
              "neighbourhood                      0.000000\n",
              "latitude                           0.000000\n",
              "longitude                          0.000000\n",
              "room_type                          0.000000\n",
              "price                              0.000000\n",
              "minimum_nights                     0.000000\n",
              "number_of_reviews                  0.000000\n",
              "last_review                       15.344787\n",
              "reviews_per_month                 15.344787\n",
              "calculated_host_listings_count     0.000000\n",
              "availability_365                   0.000000\n",
              "number_of_reviews_ltm              0.000000\n",
              "license                           24.782302\n",
              "dtype: float64"
            ]
          },
          "metadata": {},
          "execution_count": 6
        }
      ]
    },
    {
      "cell_type": "markdown",
      "metadata": {
        "id": "wvUyalV7bn3J"
      },
      "source": [
        "Os dados ausentes representam de **15.34** a **24.78%** dos registros nas colunas `reviews_per_month`, `last_review` e `license`, respectivamente. São informações irrelevantes para o objetivo deste projeto. Portanto, essas colunas serão excluídas da base de dados."
      ]
    },
    {
      "cell_type": "code",
      "metadata": {
        "id": "VNBTFbZLcI7M",
        "colab": {
          "base_uri": "https://localhost:8080/"
        },
        "outputId": "04d80f98-0a4f-4d8d-d5a3-826c2ef86383"
      },
      "source": [
        "# Removendo as colunas 'reviews_per_month', 'last_review' e 'license'\n",
        "df = df.drop(columns=['reviews_per_month', 'last_review', 'license'])\n",
        "\n",
        "# Verificando a exclusão\n",
        "df.info()"
      ],
      "execution_count": null,
      "outputs": [
        {
          "output_type": "stream",
          "name": "stdout",
          "text": [
            "<class 'pandas.core.frame.DataFrame'>\n",
            "Int64Index: 4249 entries, 2318 to 52446255\n",
            "Data columns (total 14 columns):\n",
            " #   Column                          Non-Null Count  Dtype  \n",
            "---  ------                          --------------  -----  \n",
            " 0   name                            4249 non-null   object \n",
            " 1   host_id                         4249 non-null   object \n",
            " 2   host_name                       4249 non-null   object \n",
            " 3   neighbourhood_group             4249 non-null   object \n",
            " 4   neighbourhood                   4249 non-null   object \n",
            " 5   latitude                        4249 non-null   float64\n",
            " 6   longitude                       4249 non-null   float64\n",
            " 7   room_type                       4249 non-null   object \n",
            " 8   price                           4249 non-null   int64  \n",
            " 9   minimum_nights                  4249 non-null   int64  \n",
            " 10  number_of_reviews               4249 non-null   int64  \n",
            " 11  calculated_host_listings_count  4249 non-null   int64  \n",
            " 12  availability_365                4249 non-null   int64  \n",
            " 13  number_of_reviews_ltm           4249 non-null   int64  \n",
            "dtypes: float64(2), int64(6), object(6)\n",
            "memory usage: 497.9+ KB\n"
          ]
        }
      ]
    },
    {
      "cell_type": "markdown",
      "metadata": {
        "id": "uUrC4W_4dZlx"
      },
      "source": [
        "### Distribuição das variáveis numéricas\n",
        "\n",
        "Verificando, visualmente, o comportamento e a distribuição das **variáveis numéricas de interesse**."
      ]
    },
    {
      "cell_type": "code",
      "metadata": {
        "id": "7voUlNSomJ2x"
      },
      "source": [
        "# Variáveis numéricas de interesse\n",
        "vars_num = ['price', 'minimum_nights', 'calculated_host_listings_count', 'availability_365', 'longitude', 'latitude']"
      ],
      "execution_count": null,
      "outputs": []
    },
    {
      "cell_type": "code",
      "metadata": {
        "colab": {
          "base_uri": "https://localhost:8080/",
          "height": 376
        },
        "id": "0CCndJP0dmAg",
        "outputId": "7cd979d9-00b2-4349-a8cf-c0bf63ef6e0c"
      },
      "source": [
        "# Gerando os histogramas das variáveis numéricas de interesse\n",
        "df.hist(column = vars_num, figsize = (12, 9), layout = (3, 3), bins = 20);"
      ],
      "execution_count": null,
      "outputs": [
        {
          "output_type": "display_data",
          "data": {
            "image/png": "[encoded data removed]",
            "text/plain": [
              "<Figure size 864x648 with 9 Axes>"
            ]
          },
          "metadata": {
            "needs_background": "light"
          }
        }
      ]
    },
    {
      "cell_type": "markdown",
      "metadata": {
        "id": "RCgLqBGPJ0zn"
      },
      "source": [
        "Para ampliar ainda mais nossa visão sobre a base de dados que está sendo trabalhada, faremos o **resumo estatístico** das variáveis de interesse:"
      ]
    },
    {
      "cell_type": "code",
      "metadata": {
        "colab": {
          "base_uri": "https://localhost:8080/",
          "height": 297
        },
        "id": "KSZplb-TmBE7",
        "outputId": "5a0efb8c-af35-4b91-9e29-d7e56cef544c"
      },
      "source": [
        "# Obtendo o resumo estatístico das variáveis de interesse\n",
        "df[vars_num].describe()"
      ],
      "execution_count": null,
      "outputs": [
        {
          "output_type": "execute_result",
          "data": {
            "text/html": [
              "<div>\n",
              "<style scoped>\n",
              "    .dataframe tbody tr th:only-of-type {\n",
              "        vertical-align: middle;\n",
              "    }\n",
              "\n",
              "    .dataframe tbody tr th {\n",
              "        vertical-align: top;\n",
              "    }\n",
              "\n",
              "    .dataframe thead th {\n",
              "        text-align: right;\n",
              "    }\n",
              "</style>\n",
              "<table border=\"1\" class=\"dataframe\">\n",
              "  <thead>\n",
              "    <tr style=\"text-align: right;\">\n",
              "      <th></th>\n",
              "      <th>price</th>\n",
              "      <th>minimum_nights</th>\n",
              "      <th>calculated_host_listings_count</th>\n",
              "      <th>availability_365</th>\n",
              "      <th>longitude</th>\n",
              "      <th>latitude</th>\n",
              "    </tr>\n",
              "  </thead>\n",
              "  <tbody>\n",
              "    <tr>\n",
              "      <th>count</th>\n",
              "      <td>4249.000000</td>\n",
              "      <td>4249.000000</td>\n",
              "      <td>4249.000000</td>\n",
              "      <td>4249.000000</td>\n",
              "      <td>4249.000000</td>\n",
              "      <td>4249.000000</td>\n",
              "    </tr>\n",
              "    <tr>\n",
              "      <th>mean</th>\n",
              "      <td>162.846317</td>\n",
              "      <td>14.381972</td>\n",
              "      <td>14.413980</td>\n",
              "      <td>186.900212</td>\n",
              "      <td>-122.333915</td>\n",
              "      <td>47.624420</td>\n",
              "    </tr>\n",
              "    <tr>\n",
              "      <th>std</th>\n",
              "      <td>141.065381</td>\n",
              "      <td>19.574878</td>\n",
              "      <td>31.408496</td>\n",
              "      <td>124.665394</td>\n",
              "      <td>0.033287</td>\n",
              "      <td>0.048416</td>\n",
              "    </tr>\n",
              "    <tr>\n",
              "      <th>min</th>\n",
              "      <td>0.000000</td>\n",
              "      <td>1.000000</td>\n",
              "      <td>1.000000</td>\n",
              "      <td>0.000000</td>\n",
              "      <td>-122.419050</td>\n",
              "      <td>47.496790</td>\n",
              "    </tr>\n",
              "    <tr>\n",
              "      <th>25%</th>\n",
              "      <td>90.000000</td>\n",
              "      <td>2.000000</td>\n",
              "      <td>1.000000</td>\n",
              "      <td>73.000000</td>\n",
              "      <td>-122.356510</td>\n",
              "      <td>47.600890</td>\n",
              "    </tr>\n",
              "    <tr>\n",
              "      <th>50%</th>\n",
              "      <td>131.000000</td>\n",
              "      <td>3.000000</td>\n",
              "      <td>2.000000</td>\n",
              "      <td>170.000000</td>\n",
              "      <td>-122.332500</td>\n",
              "      <td>47.621200</td>\n",
              "    </tr>\n",
              "    <tr>\n",
              "      <th>75%</th>\n",
              "      <td>192.000000</td>\n",
              "      <td>30.000000</td>\n",
              "      <td>8.000000</td>\n",
              "      <td>316.000000</td>\n",
              "      <td>-122.309780</td>\n",
              "      <td>47.661870</td>\n",
              "    </tr>\n",
              "    <tr>\n",
              "      <th>max</th>\n",
              "      <td>3750.000000</td>\n",
              "      <td>365.000000</td>\n",
              "      <td>149.000000</td>\n",
              "      <td>365.000000</td>\n",
              "      <td>-122.241490</td>\n",
              "      <td>47.734010</td>\n",
              "    </tr>\n",
              "  </tbody>\n",
              "</table>\n",
              "</div>"
            ],
            "text/plain": [
              "             price  minimum_nights  ...    longitude     latitude\n",
              "count  4249.000000     4249.000000  ...  4249.000000  4249.000000\n",
              "mean    162.846317       14.381972  ...  -122.333915    47.624420\n",
              "std     141.065381       19.574878  ...     0.033287     0.048416\n",
              "min       0.000000        1.000000  ...  -122.419050    47.496790\n",
              "25%      90.000000        2.000000  ...  -122.356510    47.600890\n",
              "50%     131.000000        3.000000  ...  -122.332500    47.621200\n",
              "75%     192.000000       30.000000  ...  -122.309780    47.661870\n",
              "max    3750.000000      365.000000  ...  -122.241490    47.734010\n",
              "\n",
              "[8 rows x 6 columns]"
            ]
          },
          "metadata": {},
          "execution_count": 10
        }
      ]
    },
    {
      "cell_type": "markdown",
      "metadata": {
        "id": "QwgccNuulGhe"
      },
      "source": [
        "Com base nos histogramas e no resumo estatístico das variáveis de interesse, é possível identificar a presença de *outliers*, tais como:\n",
        "*   Anúncios com `price = 0`;\n",
        "*   Anúncios com `price = 3750`;\n",
        "*   Anúncios com `minimum_nights = 365`;\n",
        "*   Anunciantes com 149 anúncios na mesma região `calculated_host_listings_count = 149`; e\n",
        "*   Anúncios que não estarão disponíveis nos próximos 365 dias `availability_365 = 0`\n",
        "\n",
        "Neste sentido, uma análise mais detalhada se faz necessária."
      ]
    },
    {
      "cell_type": "markdown",
      "metadata": {
        "id": "2yx07xzaFCMR"
      },
      "source": [
        "## Limpeza dos dados\n",
        "\n",
        "A limpeza dos dados será feita em duas etapas:\n",
        "*   Remoção de *outliers* pela definição de **limites arbitrarios**¹; e\n",
        "*   Remoção de *outliers* pelo método do **Intervalo Interquartil**.\n",
        "\n",
        "<sub>¹ Limites arbitrários baseados na realidade. Por exemplo: anúncios com o preço de US$ 0 por noite, ou anúncios com estadia mínima superior a 30 dias, serão considerados *outliers* e, portanto, serão removidos.</sub>"
      ]
    },
    {
      "cell_type": "markdown",
      "metadata": {
        "id": "AjmhiDoiOknd"
      },
      "source": [
        "### Remoção de *outliers* pela definição de limites arbitrários"
      ]
    },
    {
      "cell_type": "code",
      "metadata": {
        "id": "O3_vlrTHj0BG"
      },
      "source": [
        "# Mantendo uma cópia do df original\n",
        "df_clean = df.copy()\n",
        "\n",
        "# Removendo todas observações nas quais price = 0\n",
        "df_clean.drop(df_clean[df_clean.price == 0].index, axis = 0, inplace = True)\n",
        "\n",
        "# Removendo todas observações nas quais minimum_nights > 30\n",
        "df_clean.drop(df_clean[df_clean.minimum_nights > 30].index, axis = 0, inplace = True)"
      ],
      "execution_count": null,
      "outputs": []
    },
    {
      "cell_type": "code",
      "metadata": {
        "colab": {
          "base_uri": "https://localhost:8080/"
        },
        "id": "a_Io3SojRpM1",
        "outputId": "6c94aab2-56e1-43b0-f3bc-f5c5029dade0"
      },
      "source": [
        "# Dimensões do df pós a primeira etapa da limpeza\n",
        "df_clean.shape"
      ],
      "execution_count": null,
      "outputs": [
        {
          "output_type": "execute_result",
          "data": {
            "text/plain": [
              "(4129, 14)"
            ]
          },
          "metadata": {},
          "execution_count": 12
        }
      ]
    },
    {
      "cell_type": "markdown",
      "metadata": {
        "id": "Jv7dWhmEu6GR"
      },
      "source": [
        "Foram removidas **120** observações."
      ]
    },
    {
      "cell_type": "markdown",
      "metadata": {
        "id": "ZzlnM2FesamN"
      },
      "source": [
        "### Identificação e remoção de *outliers* pelo método do Intervalo Interquartil\n",
        "\n",
        "O Itervalo Interquartil - do Inglês, [Interquartile Range (IQR)](https://en.wikipedia.org/wiki/Interquartile_range) - será utilizado para identificar e, posteriormente, remover os *outliers* da variável `price`, variável que corresponde ao preço por noite de estadia."
      ]
    },
    {
      "cell_type": "markdown",
      "metadata": {
        "id": "ChhKSdhOKqmD"
      },
      "source": [
        "Na função abaixo, identificaremos, para cada variável, o terceiro e o primeiro quartil `q1`e `q2`, respectivamente. Na sequência, calcularemos o intervalo interquartil `iqr` e selecionaremos, a partir da definição do limite inferior `lower_limit` e do limite superior `lower_limit`, os outliers.\n",
        "\n",
        "Todos as observações com valor menor que o limite inferior e maior que o limite superior serão removidos."
      ]
    },
    {
      "cell_type": "code",
      "metadata": {
        "id": "LPlNAqyL60L0"
      },
      "source": [
        "# Criando uma função para identificar os valores que estão dentro dos limites estabelecidos\n",
        "def is_outlier(s):\n",
        "    q3 = s.quantile(0.75)\n",
        "    q1 = s.quantile(0.25)\n",
        "    iqr = q3 - q1\n",
        "    lower_limit = iqr - (1.5 * iqr) # Limite inferior (LI)\n",
        "    upper_limit = iqr + (1.5 * iqr) # Limite superior (LS)\n",
        "    return ~s.between(lower_limit, upper_limit) # LI <= price <= LS"
      ],
      "execution_count": null,
      "outputs": []
    },
    {
      "cell_type": "code",
      "metadata": {
        "id": "ZmDnOe7NvhZ4",
        "colab": {
          "base_uri": "https://localhost:8080/"
        },
        "outputId": "5eadeb5c-a028-4801-844e-44395df05c6e"
      },
      "source": [
        "# Aplicando a função\n",
        "outliers = df_clean.groupby('neighbourhood_group').price.apply(is_outlier) # Bool\n",
        "\n",
        "# Número de variáveis que serão removidas\n",
        "print('{} observações serão removidas.'.format(outliers.value_counts()[0]))"
      ],
      "execution_count": null,
      "outputs": [
        {
          "output_type": "stream",
          "name": "stdout",
          "text": [
            "3412 observações serão removidas.\n"
          ]
        }
      ]
    },
    {
      "cell_type": "code",
      "metadata": {
        "colab": {
          "base_uri": "https://localhost:8080/"
        },
        "id": "czx_d5r9T4Z2",
        "outputId": "f58cde26-c37f-42b9-bbca-1aa63f65924f"
      },
      "source": [
        "# Dimensões do df antes da limpeza\n",
        "df_clean.shape"
      ],
      "execution_count": null,
      "outputs": [
        {
          "output_type": "execute_result",
          "data": {
            "text/plain": [
              "(4129, 14)"
            ]
          },
          "metadata": {},
          "execution_count": 15
        }
      ]
    },
    {
      "cell_type": "code",
      "metadata": {
        "id": "w0huv6afSPuF"
      },
      "source": [
        "# Removendo os outliers\n",
        "df_clean = df_clean.loc[outliers]"
      ],
      "execution_count": null,
      "outputs": []
    },
    {
      "cell_type": "code",
      "metadata": {
        "colab": {
          "base_uri": "https://localhost:8080/"
        },
        "id": "zrETYjuis_3x",
        "outputId": "e47bfe3e-709a-4cd7-8911-d7a07298b8b8"
      },
      "source": [
        "# Dimensões do df após a limpeza\n",
        "df_clean.shape\n",
        "\n",
        "print('Dimensões do df após a remoção dos outliers:')\n",
        "print(f'{df_clean.shape[0]} L x {df_clean.shape[1]} C.')"
      ],
      "execution_count": null,
      "outputs": [
        {
          "output_type": "stream",
          "name": "stdout",
          "text": [
            "Dimensões do df após a remoção dos outliers:\n",
            "717 L x 14 C.\n"
          ]
        }
      ]
    },
    {
      "cell_type": "markdown",
      "metadata": {
        "id": "p4heXzl-QEdt"
      },
      "source": [
        "Ao todo, **3412** observações foram removidas da base de dados."
      ]
    },
    {
      "cell_type": "markdown",
      "metadata": {
        "id": "ptrwjsH4zQhK"
      },
      "source": [
        "### Histograma após remoção dos *outliers*"
      ]
    },
    {
      "cell_type": "code",
      "metadata": {
        "colab": {
          "base_uri": "https://localhost:8080/",
          "height": 376
        },
        "id": "257Qag5ezYN_",
        "outputId": "83514279-2310-402d-844a-f99700ff2e7b"
      },
      "source": [
        "df_clean.hist(column = vars_num, figsize = (12, 9), layout = (3, 3), bins = 20);"
      ],
      "execution_count": null,
      "outputs": [
        {
          "output_type": "display_data",
          "data": {
            "image/png": "[encoded data removed]",
            "text/plain": [
              "<Figure size 864x648 with 9 Axes>"
            ]
          },
          "metadata": {
            "needs_background": "light"
          }
        }
      ]
    },
    {
      "cell_type": "markdown",
      "metadata": {
        "id": "nk-s8CdfQNui"
      },
      "source": [
        "## Respondendo algumas perguntas"
      ]
    },
    {
      "cell_type": "markdown",
      "metadata": {
        "id": "1NUugg71jhDV"
      },
      "source": [
        "### Q1. Quais são as regiões com maior número de anúncios?"
      ]
    },
    {
      "cell_type": "code",
      "metadata": {
        "id": "meGVaT69T_Qv"
      },
      "source": [
        "# Agrupando os dados por região\n",
        "df_group = df_clean.groupby('neighbourhood_group')"
      ],
      "execution_count": null,
      "outputs": []
    },
    {
      "cell_type": "code",
      "metadata": {
        "colab": {
          "base_uri": "https://localhost:8080/"
        },
        "id": "XOOJB0g4joHD",
        "outputId": "db776570-2365-43a0-a522-ada2e23edda8"
      },
      "source": [
        "# Listando as 5 regiões com maior número de anúncios\n",
        "df_group.size().sort_values(ascending = False).drop('Other neighborhoods').iloc[:5]"
      ],
      "execution_count": null,
      "outputs": [
        {
          "output_type": "execute_result",
          "data": {
            "text/plain": [
              "neighbourhood_group\n",
              "Downtown        174\n",
              "Capitol Hill     69\n",
              "West Seattle     57\n",
              "Queen Anne       49\n",
              "Interbay         34\n",
              "dtype: int64"
            ]
          },
          "metadata": {},
          "execution_count": 21
        }
      ]
    },
    {
      "cell_type": "markdown",
      "metadata": {
        "id": "EZdCtWWykvw8"
      },
      "source": [
        "O valor `Other neighbourhood` foi removido desta análise pois não representa uma região específica, mas sim várias regiões.\n",
        "\n",
        "As regiões com maior número de anúncios são: **Downtown**, **Capitol Hill**, **West Seattle**, **Queen Anne** e **Interbay**."
      ]
    },
    {
      "cell_type": "markdown",
      "metadata": {
        "id": "6SjGttPhQ3Sf"
      },
      "source": [
        "#### Q1.2. Nessas regiões, qual a média do número mínimo de noites de estadia?"
      ]
    },
    {
      "cell_type": "code",
      "metadata": {
        "id": "i-A0ybxvQ7bV"
      },
      "source": [
        "# Regiões de interesse\n",
        "roi = ['Downtown', 'Capitol Hill', 'West Seattle', 'Queen Anne', 'Interbay']"
      ],
      "execution_count": null,
      "outputs": []
    },
    {
      "cell_type": "code",
      "metadata": {
        "colab": {
          "base_uri": "https://localhost:8080/",
          "height": 235
        },
        "id": "0Jz9VrWbYgrz",
        "outputId": "0c7c9801-036f-4628-ddef-089d4205f958"
      },
      "source": [
        "# Obtendo as regiões que, em média, ofertam o maior número mínimo de noites de estadia\n",
        "df_clean[['neighbourhood_group', 'minimum_nights']].groupby('neighbourhood_group').mean().loc[roi].sort_values(by = 'minimum_nights', ascending = False)"
      ],
      "execution_count": null,
      "outputs": [
        {
          "output_type": "execute_result",
          "data": {
            "text/html": [
              "<div>\n",
              "<style scoped>\n",
              "    .dataframe tbody tr th:only-of-type {\n",
              "        vertical-align: middle;\n",
              "    }\n",
              "\n",
              "    .dataframe tbody tr th {\n",
              "        vertical-align: top;\n",
              "    }\n",
              "\n",
              "    .dataframe thead th {\n",
              "        text-align: right;\n",
              "    }\n",
              "</style>\n",
              "<table border=\"1\" class=\"dataframe\">\n",
              "  <thead>\n",
              "    <tr style=\"text-align: right;\">\n",
              "      <th></th>\n",
              "      <th>minimum_nights</th>\n",
              "    </tr>\n",
              "    <tr>\n",
              "      <th>neighbourhood_group</th>\n",
              "      <th></th>\n",
              "    </tr>\n",
              "  </thead>\n",
              "  <tbody>\n",
              "    <tr>\n",
              "      <th>Interbay</th>\n",
              "      <td>24.352941</td>\n",
              "    </tr>\n",
              "    <tr>\n",
              "      <th>Capitol Hill</th>\n",
              "      <td>16.811594</td>\n",
              "    </tr>\n",
              "    <tr>\n",
              "      <th>Downtown</th>\n",
              "      <td>14.942529</td>\n",
              "    </tr>\n",
              "    <tr>\n",
              "      <th>Queen Anne</th>\n",
              "      <td>11.244898</td>\n",
              "    </tr>\n",
              "    <tr>\n",
              "      <th>West Seattle</th>\n",
              "      <td>9.964912</td>\n",
              "    </tr>\n",
              "  </tbody>\n",
              "</table>\n",
              "</div>"
            ],
            "text/plain": [
              "                     minimum_nights\n",
              "neighbourhood_group                \n",
              "Interbay                  24.352941\n",
              "Capitol Hill              16.811594\n",
              "Downtown                  14.942529\n",
              "Queen Anne                11.244898\n",
              "West Seattle               9.964912"
            ]
          },
          "metadata": {},
          "execution_count": 23
        }
      ]
    },
    {
      "cell_type": "markdown",
      "metadata": {
        "id": "xYxJmO5C8qVD"
      },
      "source": [
        "Importante notar que mesmo sendo a quinta região com maior número de anúncios, **Interbay** oferece, em média, a estadia mais douradoura. **Downtown**, por outro lado, é a região com o maior número de anúncios e nessa região, a estadia mínima, em média, é de aproximadamente 15 dias, ou 2 semanas."
      ]
    },
    {
      "cell_type": "markdown",
      "metadata": {
        "id": "vzcUTdbcbbmn"
      },
      "source": [
        "#### Q1.3. E qual o tipo de quarto/casa mais anunciado?"
      ]
    },
    {
      "cell_type": "code",
      "metadata": {
        "colab": {
          "base_uri": "https://localhost:8080/"
        },
        "id": "PGT9M4wD-lcw",
        "outputId": "6346a942-b225-4cf9-b907-a7b965d7e306"
      },
      "source": [
        "# Número de quartos/casas em valores absolutos\n",
        "df_group.room_type.value_counts().loc[roi].groupby('room_type').sum()"
      ],
      "execution_count": null,
      "outputs": [
        {
          "output_type": "execute_result",
          "data": {
            "text/plain": [
              "room_type\n",
              "Entire home/apt    377\n",
              "Private room         6\n",
              "Name: room_type, dtype: int64"
            ]
          },
          "metadata": {},
          "execution_count": 24
        }
      ]
    },
    {
      "cell_type": "code",
      "metadata": {
        "colab": {
          "base_uri": "https://localhost:8080/"
        },
        "id": "LFl8U-Ugbkij",
        "outputId": "4770215e-b053-4565-a2f7-457636dcbf38"
      },
      "source": [
        "# Número de quartos/casas em valores relativos\n",
        "df_group.room_type.value_counts().loc[roi].groupby('room_type').sum() / df_group.room_type.value_counts().loc[roi].sum() * 100"
      ],
      "execution_count": null,
      "outputs": [
        {
          "output_type": "execute_result",
          "data": {
            "text/plain": [
              "room_type\n",
              "Entire home/apt    98.43342\n",
              "Private room        1.56658\n",
              "Name: room_type, dtype: float64"
            ]
          },
          "metadata": {},
          "execution_count": 26
        }
      ]
    },
    {
      "cell_type": "markdown",
      "metadata": {
        "id": "zljSTOmHzxbH"
      },
      "source": [
        "### Q2. Quais são as regiões mais caras em Seattle?"
      ]
    },
    {
      "cell_type": "code",
      "metadata": {
        "colab": {
          "base_uri": "https://localhost:8080/"
        },
        "id": "a4_YqgjLzWSZ",
        "outputId": "f40fdef2-51c0-444b-d257-7bda9f4370ec"
      },
      "source": [
        "# Obtendo a média do preço por região e ordenando\n",
        "df_group.price.mean().sort_values(ascending = False).iloc[:5]"
      ],
      "execution_count": null,
      "outputs": [
        {
          "output_type": "execute_result",
          "data": {
            "text/plain": [
              "neighbourhood_group\n",
              "Queen Anne        548.632653\n",
              "Central Area      493.739130\n",
              "Ballard           474.666667\n",
              "Rainier Valley    466.523810\n",
              "Lake City         421.571429\n",
              "Name: price, dtype: float64"
            ]
          },
          "metadata": {},
          "execution_count": 27
        }
      ]
    },
    {
      "cell_type": "markdown",
      "metadata": {
        "id": "seTqS1ZJ7zHq"
      },
      "source": [
        "Utilizando *box plots* para visualizar as informações acima:"
      ]
    },
    {
      "cell_type": "code",
      "metadata": {
        "colab": {
          "base_uri": "https://localhost:8080/",
          "height": 623
        },
        "id": "tLHCCnio0Q2C",
        "outputId": "f952ced3-85b1-422c-b56b-a507d115bee7"
      },
      "source": [
        "plt.figure(figsize = [16, 9])\n",
        "sns.boxplot(x = df_clean.neighbourhood_group, y = df_clean.price, showfliers = False) # Plot s/ os outliers\n",
        "plt.xlabel('Região')\n",
        "plt.ylabel('Preço por noite (US$)')\n",
        "plt.xticks(rotation = 45)\n",
        "plt.show()"
      ],
      "execution_count": null,
      "outputs": [
        {
          "output_type": "display_data",
          "data": {
            "image/png": "[encoded data removed]",
            "text/plain": [
              "<Figure size 1152x648 with 1 Axes>"
            ]
          },
          "metadata": {
            "needs_background": "light"
          }
        }
      ]
    },
    {
      "cell_type": "code",
      "metadata": {
        "colab": {
          "base_uri": "https://localhost:8080/",
          "height": 469
        },
        "id": "ag8JwRdCY7i5",
        "outputId": "d2a24ec3-7bb8-4d6f-fb4a-23930c0cc527"
      },
      "source": [
        "# Visualizando espacialmente as informações\n",
        "df_clean.plot(kind = 'scatter', x = 'longitude', y = 'latitude', alpha = 0.3, c = df_clean['price'], \n",
        "              s = 8, cmap = plt.get_cmap('jet'), figsize = (12, 8));"
      ],
      "execution_count": null,
      "outputs": [
        {
          "output_type": "display_data",
          "data": {
            "image/png": "[encoded data removed]",
            "text/plain": [
              "<Figure size 864x576 with 2 Axes>"
            ]
          },
          "metadata": {
            "needs_background": "light"
          }
        }
      ]
    },
    {
      "cell_type": "markdown",
      "metadata": {
        "id": "dQfAOnEVHhPO"
      },
      "source": [
        "### Q3. Qual o tipo de quarto/casa mais anunciado em Seattle?"
      ]
    },
    {
      "cell_type": "code",
      "metadata": {
        "colab": {
          "base_uri": "https://localhost:8080/",
          "height": 369
        },
        "id": "UbhhjxqLFv_H",
        "outputId": "21abd4bc-25f6-44fe-f644-093e0fcc5acb"
      },
      "source": [
        "# Plotando um gráfico de barras com a contagem do número de anúncios de cada tipo de quarto/casa\n",
        "sns.catplot(x = 'room_type', kind = 'count', data = df_clean);\n",
        "plt.xlabel('Tipo de quarto/casa')\n",
        "plt.ylabel('Número de anúncios')\n",
        "plt.show()"
      ],
      "execution_count": null,
      "outputs": [
        {
          "output_type": "display_data",
          "data": {
            "image/png": "[encoded data removed]",
            "text/plain": [
              "<Figure size 360x360 with 1 Axes>"
            ]
          },
          "metadata": {
            "needs_background": "light"
          }
        }
      ]
    },
    {
      "cell_type": "code",
      "metadata": {
        "colab": {
          "base_uri": "https://localhost:8080/"
        },
        "id": "YAj3rbysIm96",
        "outputId": "87889082-129b-47a1-b20f-009d8935cd25"
      },
      "source": [
        "# Verificando a porcentagem de cada tipo de quarto/casa\n",
        "df_clean.room_type.value_counts() / df_clean.shape[0] * 100"
      ],
      "execution_count": null,
      "outputs": [
        {
          "output_type": "execute_result",
          "data": {
            "text/plain": [
              "Entire home/apt    96.93166\n",
              "Private room        3.06834\n",
              "Name: room_type, dtype: float64"
            ]
          },
          "metadata": {},
          "execution_count": 113
        }
      ]
    },
    {
      "cell_type": "markdown",
      "metadata": {
        "id": "NB8NSTJZIBVr"
      },
      "source": [
        "**96.93%** dos anúncios em Seattle são do tipo **lugares inteiro**, enquanto que **3.07%** são do tipo **quartos inteiros**.\n",
        "\n",
        "Segundo a própria empresa:\n",
        "\n",
        "> **Lugares inteiros** são recomendados para quem procura uma casa acolhedora quando se está longe da sua. Geralmente, esse tipo de acomodação conta com quarto, banheiro, cozinha e entrada separada e exclusiva.\n",
        "\n",
        "> **Quartos inteiros** são ótimos para quem prefere um pouco de privacidade, mas deseja conhecer pessoas do local."
      ]
    },
    {
      "cell_type": "markdown",
      "metadata": {
        "id": "V0AQdV0Pe9fk"
      },
      "source": [
        "### Q4. Qual a correlação existente entre as variáveis?\n",
        "\n",
        "Existe correlação entre as informações coletadas pela Airbnb?"
      ]
    },
    {
      "cell_type": "code",
      "metadata": {
        "colab": {
          "base_uri": "https://localhost:8080/",
          "height": 317
        },
        "id": "rI02uV8ffA6w",
        "outputId": "da332b08-017f-49ef-d7e2-062fac6dbf1a"
      },
      "source": [
        "# Gerando a matriz de correlação\n",
        "corr = df_clean.corr()\n",
        "\n",
        "# Visualizando a matriz\n",
        "display(corr)"
      ],
      "execution_count": null,
      "outputs": [
        {
          "output_type": "display_data",
          "data": {
            "text/html": [
              "<div>\n",
              "<style scoped>\n",
              "    .dataframe tbody tr th:only-of-type {\n",
              "        vertical-align: middle;\n",
              "    }\n",
              "\n",
              "    .dataframe tbody tr th {\n",
              "        vertical-align: top;\n",
              "    }\n",
              "\n",
              "    .dataframe thead th {\n",
              "        text-align: right;\n",
              "    }\n",
              "</style>\n",
              "<table border=\"1\" class=\"dataframe\">\n",
              "  <thead>\n",
              "    <tr style=\"text-align: right;\">\n",
              "      <th></th>\n",
              "      <th>latitude</th>\n",
              "      <th>longitude</th>\n",
              "      <th>price</th>\n",
              "      <th>minimum_nights</th>\n",
              "      <th>number_of_reviews</th>\n",
              "      <th>calculated_host_listings_count</th>\n",
              "      <th>availability_365</th>\n",
              "      <th>number_of_reviews_ltm</th>\n",
              "    </tr>\n",
              "  </thead>\n",
              "  <tbody>\n",
              "    <tr>\n",
              "      <th>latitude</th>\n",
              "      <td>1.000000</td>\n",
              "      <td>-0.047604</td>\n",
              "      <td>0.016329</td>\n",
              "      <td>0.038089</td>\n",
              "      <td>0.054546</td>\n",
              "      <td>-0.028927</td>\n",
              "      <td>0.015573</td>\n",
              "      <td>-0.020804</td>\n",
              "    </tr>\n",
              "    <tr>\n",
              "      <th>longitude</th>\n",
              "      <td>-0.047604</td>\n",
              "      <td>1.000000</td>\n",
              "      <td>0.049682</td>\n",
              "      <td>-0.009799</td>\n",
              "      <td>-0.000041</td>\n",
              "      <td>-0.003293</td>\n",
              "      <td>-0.020359</td>\n",
              "      <td>-0.010680</td>\n",
              "    </tr>\n",
              "    <tr>\n",
              "      <th>price</th>\n",
              "      <td>0.016329</td>\n",
              "      <td>0.049682</td>\n",
              "      <td>1.000000</td>\n",
              "      <td>-0.021244</td>\n",
              "      <td>-0.053880</td>\n",
              "      <td>-0.230102</td>\n",
              "      <td>-0.068986</td>\n",
              "      <td>-0.118081</td>\n",
              "    </tr>\n",
              "    <tr>\n",
              "      <th>minimum_nights</th>\n",
              "      <td>0.038089</td>\n",
              "      <td>-0.009799</td>\n",
              "      <td>-0.021244</td>\n",
              "      <td>1.000000</td>\n",
              "      <td>-0.262815</td>\n",
              "      <td>0.422786</td>\n",
              "      <td>0.216672</td>\n",
              "      <td>-0.457812</td>\n",
              "    </tr>\n",
              "    <tr>\n",
              "      <th>number_of_reviews</th>\n",
              "      <td>0.054546</td>\n",
              "      <td>-0.000041</td>\n",
              "      <td>-0.053880</td>\n",
              "      <td>-0.262815</td>\n",
              "      <td>1.000000</td>\n",
              "      <td>-0.210898</td>\n",
              "      <td>-0.179876</td>\n",
              "      <td>0.597744</td>\n",
              "    </tr>\n",
              "    <tr>\n",
              "      <th>calculated_host_listings_count</th>\n",
              "      <td>-0.028927</td>\n",
              "      <td>-0.003293</td>\n",
              "      <td>-0.230102</td>\n",
              "      <td>0.422786</td>\n",
              "      <td>-0.210898</td>\n",
              "      <td>1.000000</td>\n",
              "      <td>0.225546</td>\n",
              "      <td>-0.238463</td>\n",
              "    </tr>\n",
              "    <tr>\n",
              "      <th>availability_365</th>\n",
              "      <td>0.015573</td>\n",
              "      <td>-0.020359</td>\n",
              "      <td>-0.068986</td>\n",
              "      <td>0.216672</td>\n",
              "      <td>-0.179876</td>\n",
              "      <td>0.225546</td>\n",
              "      <td>1.000000</td>\n",
              "      <td>-0.188694</td>\n",
              "    </tr>\n",
              "    <tr>\n",
              "      <th>number_of_reviews_ltm</th>\n",
              "      <td>-0.020804</td>\n",
              "      <td>-0.010680</td>\n",
              "      <td>-0.118081</td>\n",
              "      <td>-0.457812</td>\n",
              "      <td>0.597744</td>\n",
              "      <td>-0.238463</td>\n",
              "      <td>-0.188694</td>\n",
              "      <td>1.000000</td>\n",
              "    </tr>\n",
              "  </tbody>\n",
              "</table>\n",
              "</div>"
            ],
            "text/plain": [
              "                                latitude  ...  number_of_reviews_ltm\n",
              "latitude                        1.000000  ...              -0.020804\n",
              "longitude                      -0.047604  ...              -0.010680\n",
              "price                           0.016329  ...              -0.118081\n",
              "minimum_nights                  0.038089  ...              -0.457812\n",
              "number_of_reviews               0.054546  ...               0.597744\n",
              "calculated_host_listings_count -0.028927  ...              -0.238463\n",
              "availability_365                0.015573  ...              -0.188694\n",
              "number_of_reviews_ltm          -0.020804  ...               1.000000\n",
              "\n",
              "[8 rows x 8 columns]"
            ]
          },
          "metadata": {}
        }
      ]
    },
    {
      "cell_type": "markdown",
      "metadata": {
        "id": "je3Wqkie3GSj"
      },
      "source": [
        "Podemos visualizar a matriz de correlação por meio de um **heat map**."
      ]
    },
    {
      "cell_type": "code",
      "metadata": {
        "colab": {
          "base_uri": "https://localhost:8080/",
          "height": 411
        },
        "id": "NagLWnrXfvRf",
        "outputId": "74e35694-fbce-4d5f-f0d0-90850a4137fe"
      },
      "source": [
        "sns.heatmap(corr, cmap = 'RdBu', fmt = '.2f', square = True, linecolor = 'white', annot = True);"
      ],
      "execution_count": null,
      "outputs": [
        {
          "output_type": "display_data",
          "data": {
            "image/png": "[encoded data removed]",
            "text/plain": [
              "<Figure size 432x288 with 2 Axes>"
            ]
          },
          "metadata": {
            "needs_background": "light"
          }
        }
      ]
    },
    {
      "cell_type": "markdown",
      "metadata": {
        "id": "BFntsvMrn-JC"
      },
      "source": [
        "A partir da análise de correlação entre os dados disponibilizados, podemos concluir que:\n",
        "\n",
        "> **O número de avaliações tende a aumentar quando a estadia é mais breve**. Se o objetivo do anfitrião é aumentar o número de avaliações, o mesmo investir na rotatividade de clientes. Sendo assim, faz sentido diminuir o número mínimo de noites de estadia.\n",
        "\n",
        "> **Quanto mais anúncios um anfitrião tiver, mais duradouras tendem a ser as estadias de seus clientes**. De acordo com os dados, os anfitriões que anunciam mais de um imóvel em Seattle oferecem estadias mais duradouras."
      ]
    },
    {
      "cell_type": "markdown",
      "metadata": {
        "id": "3vKkhbkmoaMv"
      },
      "source": [
        "### Q5. Qual a proporção de anfitriões com mais de um anúncio?"
      ]
    },
    {
      "cell_type": "code",
      "metadata": {
        "colab": {
          "base_uri": "https://localhost:8080/"
        },
        "id": "qcRlJ2mxxWt1",
        "outputId": "07938ad2-9fda-4141-98be-959b9dbd6eaf"
      },
      "source": [
        "# Número de anfitriões com apenas um anúncio\n",
        "single_listings = (df_clean.calculated_host_listings_count == 1).sum()\n",
        "\n",
        "# O quanto representam, em porcentagem\n",
        "print('Os anfritriões com apenas um anúncio/região correspondem a')\n",
        "print('{:.2f}% dos anfitriões de Seattle.'.format(100 * single_listings / df_clean.shape[0]))"
      ],
      "execution_count": null,
      "outputs": [
        {
          "output_type": "stream",
          "name": "stdout",
          "text": [
            "Os anfritriões com apenas um anúncio/região correspondem a\n",
            "40.17% dos anfitriões de Seattle.\n"
          ]
        }
      ]
    },
    {
      "cell_type": "markdown",
      "metadata": {
        "id": "e8I9TV789zDs"
      },
      "source": [
        "## Conclusões\n",
        "\n",
        "O objetivo deste projeto foi realizar uma análise  inicial dos dados referentes aos anúncios feitos na cidade de Seattle, WA, EUA, pela plataforma da empresa Airbnb.\n",
        "\n",
        "A partir dessa análise, foi possível obter informações relevantes do ponto de vista econômico/gerencial, tais como:\n",
        "*   **Downtown é a região da cidade com o maior número de anúncios**. Justificável, pois essa região, também conhecida como o coração de Seattle, é bem abastecida com restaurantes de classe mundial e atrações culturais;\n",
        "\n",
        "*   Nas regiões mais anunciadas, a estadia mínima varia de 9 a 24 noites. Em Downtown a estadia mínima é, em média, de aproximadamente 15 dias;\n",
        "\n",
        "*   **Lugares inteiros** é o tipo de quarto mais anunciado em Seattle;\n",
        "\n",
        "*   **Queen Anne** é a região mais cara da cidade, seguida por Central Area, Ballard, Rainier Valley e Lake City;\n",
        "\n",
        "*   A quantidade de anúncio por anfitrião e o número de avaliações parecem ser influenciados pela duração da estadia; e\n",
        "\n",
        "*   Mais da metade (59.83%) dos anfitriões possuem mais de um anúncio.\n",
        "\n",
        "> A base de dados utilizados neste projeto é uma versão resumida, e não possui todos os dados coletados pela empresa.\n",
        "\n",
        "Concluo ressaltando a importância e a necessidade da limpeza da base de dados, visto que *outliers* foram identificados em variáveis importantes, como o preço."
      ]
    }
  ]
}